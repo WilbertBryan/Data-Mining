{
  "nbformat": 4,
  "nbformat_minor": 0,
  "metadata": {
    "colab": {
      "provenance": []
    },
    "kernelspec": {
      "name": "python3",
      "display_name": "Python 3"
    },
    "language_info": {
      "name": "python"
    }
  },
  "cells": [
    {
      "cell_type": "markdown",
      "source": [
        "1. Faktorial"
      ],
      "metadata": {
        "id": "vrKH3PUlwvQn"
      }
    },
    {
      "cell_type": "code",
      "source": [
        "num = int(input(\"Enter a number: \"))\n",
        "\n",
        "def factorial(num):\n",
        "    if num == 1:\n",
        "        return 1\n",
        "    else:\n",
        "        return (num * factorial(num-1))\n",
        "\n",
        "print(\"Hasil: \", factorial(num))"
      ],
      "metadata": {
        "colab": {
          "base_uri": "https://localhost:8080/"
        },
        "id": "gEesIaQbxGAg",
        "outputId": "d58e4e42-af92-457b-cbf9-824547f368e7"
      },
      "execution_count": null,
      "outputs": [
        {
          "output_type": "stream",
          "name": "stdout",
          "text": [
            "Enter a number: 5\n",
            "Hasil:  120\n"
          ]
        }
      ]
    },
    {
      "cell_type": "markdown",
      "source": [
        "2. Fibonaci"
      ],
      "metadata": {
        "id": "6yLytRTrw4JF"
      }
    },
    {
      "cell_type": "code",
      "source": [
        "num = int(input(\"Enter a number: \"))\n",
        "\n",
        "def fibo(num):\n",
        "    if num == 1:\n",
        "        return 0\n",
        "    elif num == 2:\n",
        "        return 1\n",
        "    else:\n",
        "        return (fibo(num-2)+fibo(num-1))\n",
        "\n",
        "print(\"Hasil: \", fibo(num))"
      ],
      "metadata": {
        "colab": {
          "base_uri": "https://localhost:8080/"
        },
        "id": "l5gxARQByDOz",
        "outputId": "1b96e1cc-2a8b-46eb-b035-05b0334ee7ea"
      },
      "execution_count": null,
      "outputs": [
        {
          "output_type": "stream",
          "name": "stdout",
          "text": [
            "Enter a number: 10\n",
            "Hasil:  34\n"
          ]
        }
      ]
    },
    {
      "cell_type": "markdown",
      "source": [
        "3. Sum 5 number"
      ],
      "metadata": {
        "id": "R0d1_YpYzHRy"
      }
    },
    {
      "cell_type": "code",
      "source": [
        "num = []\n",
        "\n",
        "# Input 5 numbers\n",
        "for i in range(5):\n",
        "    number = int(input(f\"Enter number {i+1}: \"))\n",
        "    num.append(number)\n",
        "\n",
        "def sum(num, n):\n",
        "  if n == 0:\n",
        "        return 0\n",
        "  else:\n",
        "    return num[n - 1] + sum(num, n - 1)\n",
        "\n",
        "print(\"Hasil: \", sum(num,len(num)))"
      ],
      "metadata": {
        "colab": {
          "base_uri": "https://localhost:8080/"
        },
        "id": "5Z12nRPwzL4Z",
        "outputId": "f5fc60eb-4fa7-47fe-b776-51d0cd7aa96b"
      },
      "execution_count": null,
      "outputs": [
        {
          "output_type": "stream",
          "name": "stdout",
          "text": [
            "Enter number 1: 1\n",
            "Enter number 2: 2\n",
            "Enter number 3: 3\n",
            "Enter number 4: 4\n",
            "Enter number 5: 5\n",
            "Hasil:  15\n"
          ]
        }
      ]
    },
    {
      "cell_type": "markdown",
      "source": [
        "4. Sort 5 number"
      ],
      "metadata": {
        "id": "Phz1EYEN4sjB"
      }
    },
    {
      "cell_type": "code",
      "source": [
        "num = []\n",
        "\n",
        "# Input 5 numbers\n",
        "for i in range(5):\n",
        "    number = int(input(f\"Enter number {i+1}: \"))\n",
        "    num.append(number)\n",
        "\n",
        "def sort(arr, n):\n",
        "    if n == 1:\n",
        "        return 0\n",
        "    else:\n",
        "      for i in range(n - 1):\n",
        "          if arr[i] > arr[i + 1]:\n",
        "            temp = arr[i]\n",
        "            arr[i] = arr[i + 1]\n",
        "            arr[i + 1] = temp\n",
        "    sort(arr, n - 1)\n",
        "\n",
        "\n",
        "sort(num, len(num))\n",
        "print(\"Hasil dari sort: \", num)"
      ],
      "metadata": {
        "colab": {
          "base_uri": "https://localhost:8080/"
        },
        "id": "IHLPgbSZ5X2O",
        "outputId": "0acd97e3-ffab-4731-f761-da27d71c66a5"
      },
      "execution_count": null,
      "outputs": [
        {
          "output_type": "stream",
          "name": "stdout",
          "text": [
            "Enter number 1: 9\n",
            "Enter number 2: 6\n",
            "Enter number 3: 10\n",
            "Enter number 4: 3\n",
            "Enter number 5: 7\n",
            "Hasil dari sort:  [3, 6, 7, 9, 10]\n"
          ]
        }
      ]
    },
    {
      "cell_type": "markdown",
      "source": [
        "5. Find maximum number"
      ],
      "metadata": {
        "id": "hOCebAov4u07"
      }
    },
    {
      "cell_type": "code",
      "source": [
        "num = []\n",
        "\n",
        "# Input 5 numbers\n",
        "for i in range(5):\n",
        "    number = int(input(f\"Enter number {i+1}: \"))\n",
        "    num.append(number)\n",
        "\n",
        "\n",
        "def find_max(arr, n, temp):\n",
        "\n",
        "    if n == 0:\n",
        "        return temp\n",
        "\n",
        "    if arr[n - 1] > temp:\n",
        "        temp = arr[n - 1]\n",
        "\n",
        "    return find_max(arr, n - 1, temp)\n",
        "\n",
        "maximum_value = find_max(num, len(num), num[0])\n",
        "\n",
        "print(\"Maximum number is:\", maximum_value)"
      ],
      "metadata": {
        "colab": {
          "base_uri": "https://localhost:8080/"
        },
        "id": "qIgTMakgCETE",
        "outputId": "89cb6d31-3467-4f22-db80-0c21e48b3d25"
      },
      "execution_count": null,
      "outputs": [
        {
          "output_type": "stream",
          "name": "stdout",
          "text": [
            "Enter number 1: 5\n",
            "Enter number 2: 12\n",
            "Enter number 3: 11\n",
            "Enter number 4: 1\n",
            "Enter number 5: 6\n",
            "Maximum number is: 12\n"
          ]
        }
      ]
    },
    {
      "cell_type": "markdown",
      "source": [
        "6. Entropy"
      ],
      "metadata": {
        "id": "t69tLJWJSuNL"
      }
    },
    {
      "cell_type": "code",
      "source": [
        "import math\n",
        "\n",
        "def entropy(probs):\n",
        "    return -sum(p * math.log2(p) for p in probs if p > 0)\n",
        "\n",
        "t = 7 / (7 + 3)  # 7+, 3-\n",
        "\n",
        "probabilities = [t, 1 - t]  # 7+ and 3- as the input\n",
        "print(entropy(probabilities))\n",
        "\n",
        "# Entropy adalah ilmu informasi mengacu pada ukuran ketidakpastian atau ketidakteraturan dalam sebuah sistem\n",
        "# Pada kasus diatas terdapat imbalance case. terdapat 7 case positif dan 3 case negatif.\n",
        "# Hasil pada entropy di atas adalah 0,88. Nilai entropy yang lebih rendah ini menunjukkan adanya ketidakseimbangan (imbalance)\n",
        "# antara jumlah kasus positif dan negatif, sehingga hasil menjadi lebih mudah diprediksi.\n",
        "# Semakin besar perbedaan probabilitas antara dua hasil, semakin rendah entropy-nya."
      ],
      "metadata": {
        "colab": {
          "base_uri": "https://localhost:8080/"
        },
        "id": "lJ7J1l2PSwT4",
        "outputId": "ac09a991-aa75-4125-d97e-4892357bf5cc"
      },
      "execution_count": 2,
      "outputs": [
        {
          "output_type": "stream",
          "name": "stdout",
          "text": [
            "0.8812908992306927\n"
          ]
        }
      ]
    },
    {
      "cell_type": "markdown",
      "source": [
        "7. Gini"
      ],
      "metadata": {
        "id": "vvinAUpgFyFq"
      }
    },
    {
      "cell_type": "code",
      "source": [
        "def gini(probs):\n",
        "    return 1 - (probs**2 + (1 - probs)**2)\n",
        "\n",
        "t = 7 / (7 + 3)\n",
        "print(gini(t))\n",
        "\n",
        "# Gini digunakan untuk mengukur ketidakmerataan atau ketidakseimbangan dalam suatu distribusi probabilitas.\n",
        "# Gini Index menunjukkan seberapa murni atau bersih pembagian antara kelas-kelas tersebut.\n",
        "# Semakin tinggi Gini Index, semakin besar ketidakmerataan atau ketidakseimbangan.\n",
        "# Hasil dari 0.42 berarti pembagian antara kelas positif (70%) dan kelas negatif (30%) tidak sepenuhnya bersih atau merata.\n",
        "# Gini Index mendekati 0 berarti pembagian lebih bersih, dan mendekati 0.5 menunjukkan ketidakseimbangan yang lebih tinggi."
      ],
      "metadata": {
        "colab": {
          "base_uri": "https://localhost:8080/"
        },
        "id": "cdUusQtGF0OK",
        "outputId": "9fb9a58d-025d-4410-a3bd-cacbc3efb33d"
      },
      "execution_count": 1,
      "outputs": [
        {
          "output_type": "stream",
          "name": "stdout",
          "text": [
            "0.42000000000000004\n"
          ]
        }
      ]
    },
    {
      "cell_type": "markdown",
      "source": [
        "8. Classification Error"
      ],
      "metadata": {
        "id": "uIdYSjK3H1zf"
      }
    },
    {
      "cell_type": "code",
      "source": [
        "def classification_error(t):\n",
        "    return 1 - max(t, 1 - t)\n",
        "\n",
        "t = 7 / (7 + 3)\n",
        "print(classification_error(t))\n",
        "\n",
        "# Classification error digunakan untuk mengukur seberapa sering model salah dalam memprediksi kelas yang benar.\n",
        "# Hasil dari Classification error diatas adalah 0,30 atau 30%. Maka setiap kali prediksi akan salah 30% dalam memprediksi kelas.\n",
        "# Kesimpulannya nilai error yang lebih rendah akan menghasilkan model yang lebih akurat."
      ],
      "metadata": {
        "colab": {
          "base_uri": "https://localhost:8080/"
        },
        "id": "oJouIbuMIAZf",
        "outputId": "a0413c9b-5c16-4852-e776-673b0a7d5eda"
      },
      "execution_count": 2,
      "outputs": [
        {
          "output_type": "stream",
          "name": "stdout",
          "text": [
            "0.30000000000000004\n"
          ]
        }
      ]
    }
  ]
}